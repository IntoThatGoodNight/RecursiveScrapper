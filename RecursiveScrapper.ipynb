{
 "cells": [
  {
   "cell_type": "code",
   "execution_count": null,
   "metadata": {},
   "outputs": [],
   "source": [
    "import re\n",
    "from urlparse import  urljoin, urlsplit, SplitResult\n",
    "import requests\n",
    "from bs4 import BeautifulSoup\n",
    "import sys\n",
    "\n",
    "\n",
    "class RecursiveScraper:\n",
    "    def __init__(self, url):\n",
    "        self.domain = urlsplit(url).netloc\n",
    "        self.mainurl = url\n",
    "        self.urls = set()\n",
    "\n",
    "    def preprocess_url(self, referrer, url):\n",
    "        if not url:\n",
    "            return None\n",
    "\n",
    "        fields = urlsplit(urljoin(referrer, url))._asdict()\n",
    "        fields['path'] = re.sub(r'/$', '', fields['path']) \n",
    "        fields['fragment'] = '' \n",
    "        fields = SplitResult(**fields)\n",
    "        if fields.netloc == self.domain:\n",
    "            if fields.scheme == 'http':\n",
    "                httpurl = cleanurl = fields.geturl()\n",
    "                httpsurl = httpurl.replace('http:', 'https:', 1)\n",
    "            else:\n",
    "                httpsurl = cleanurl = fields.geturl()\n",
    "                httpurl = httpurl.replace('https:', 'http:', 1)\n",
    "            if httpurl not in self.urls and httpsurl not in self.urls:\n",
    "                return cleanurl\n",
    "\n",
    "        return None\n",
    "\n",
    "    def scrape(self, url=None):\n",
    "       \n",
    "        if url is None:\n",
    "            url = self.mainurl\n",
    "\n",
    "        print(\"Scraping {:s} ...\".format(url))\n",
    "        self.urls.add(url)\n",
    "        response = requests.get(url)\n",
    "        soup = BeautifulSoup(response.content, 'lxml')\n",
    "        for link in soup.findAll(\"a\"):\n",
    "            childurl = self.preprocess_url(url, link.get(\"href\"))\n",
    "            if childurl:\n",
    "                self.scrape(childurl)\n",
    "\n",
    "\n",
    "if __name__ == '__main__':\n",
    "    sys.setrecursionlimit(10000)\n",
    "    rscraper = RecursiveScraper(\"\")\n",
    "    rscraper.scrape()\n",
    "    allUrls=[]\n",
    "    allUrls = rescraper.urls\n",
    "    print(rscraper.urls)"
   ]
  }
 ],
 "metadata": {
  "kernelspec": {
   "display_name": "Python 2",
   "language": "python",
   "name": "python2"
  },
  "language_info": {
   "codemirror_mode": {
    "name": "ipython",
    "version": 2
   },
   "file_extension": ".py",
   "mimetype": "text/x-python",
   "name": "python",
   "nbconvert_exporter": "python",
   "pygments_lexer": "ipython2",
   "version": "2.7.15"
  }
 },
 "nbformat": 4,
 "nbformat_minor": 2
}
